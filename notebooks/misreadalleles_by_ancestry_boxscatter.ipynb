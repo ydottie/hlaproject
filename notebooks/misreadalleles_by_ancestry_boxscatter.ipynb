{
 "cells": [
  {
   "cell_type": "code",
   "execution_count": 23,
   "id": "2135bdae",
   "metadata": {},
   "outputs": [],
   "source": [
    "import pandas as pd\n",
    "import numpy as np\n",
    "import matplotlib.pyplot as plt\n",
    "from scipy.stats import chi2_contingency\n",
    "from scipy.stats import chisquare\n",
    "\n",
    "from collections import Counter\n",
    "from utils import *\n"
   ]
  },
  {
   "cell_type": "code",
   "execution_count": 24,
   "id": "f978f74e",
   "metadata": {},
   "outputs": [],
   "source": [
    "tools=[\"hlaforest\",\"optitype\",\"phlat\",\"seq2hla\",\"rna2hla\",\"arcas\",\"hlahd\",'hlaminer']\n"
   ]
  },
  {
   "cell_type": "code",
   "execution_count": 25,
   "id": "a035d129",
   "metadata": {},
   "outputs": [],
   "source": [
    "def missed_alleles_per_ancestry(pre,gs):\n",
    "    groupscsv = \"../datasets/SraRunTableD1.txt\"\n",
    "    groups = pd.read_csv(groupscsv)\n",
    "    \n",
    "    inaccurate = []\n",
    "    allresult = []\n",
    "\n",
    "    for group, df_by_group in groups.groupby('Population'):\n",
    "        accession_numbers = df_by_group['Run'].values.tolist()\n",
    "        gs_final = gs[gs['Run'].isin(accession_numbers)] #gs_final is a df containing the gold standard samples per population group\n",
    "        gs_final = gs_final.iloc[: ,:]\n",
    "        \n",
    "\n",
    "        ret = get_miscalled_and_all_alleles(pre,gs)\n",
    "        inaccurate.append(ret[0])\n",
    "        allresult.append(ret[1])\n",
    "\n",
    "    yoruba_inaccurate = inaccurate[4]\n",
    "    yoruba_all = allresult[4]\n",
    "\n",
    "    europe_inaccurate = sum_euro_groups(inaccurate[1:4],True)\n",
    "    europe_all = sum_euro_groups(allresult[1:4],True)\n",
    "\n",
    "    return [yoruba_inaccurate,yoruba_all], [europe_inaccurate,europe_all]"
   ]
  },
  {
   "cell_type": "code",
   "execution_count": 26,
   "id": "6c0ce825",
   "metadata": {},
   "outputs": [],
   "source": [
    "data = list()\n",
    "\n",
    "yoruba_missed_alleles = []\n",
    "yoruba_total_alleles = []\n",
    "europe_missed_alleles = []\n",
    "europe_total_alleles = []\n",
    "\n",
    "\n",
    "for t in tools:\n",
    "    gs=pd.read_csv(\"../datasets/1_gs.csv\")\n",
    "    pre=pd.read_csv(\"../results/standard/\"+str(t)+\"_d1.csv\")\n",
    "        \n",
    "    ret = missed_alleles_per_ancestry(pre,gs)\n",
    "    \n",
    "    yoruba_missed_alleles.extend(ret[0][0])\n",
    "    yoruba_total_alleles.extend(ret[0][1])\n",
    "    europe_missed_alleles.extend(ret[1][0])\n",
    "    europe_total_alleles.extend(ret[1][1])\n",
    "    \n",
    "\n"
   ]
  },
  {
   "cell_type": "code",
   "execution_count": 27,
   "id": "6a7d0c0b",
   "metadata": {},
   "outputs": [
    {
     "data": {
      "text/html": [
       "<div>\n",
       "<style scoped>\n",
       "    .dataframe tbody tr th:only-of-type {\n",
       "        vertical-align: middle;\n",
       "    }\n",
       "\n",
       "    .dataframe tbody tr th {\n",
       "        vertical-align: top;\n",
       "    }\n",
       "\n",
       "    .dataframe thead th {\n",
       "        text-align: right;\n",
       "    }\n",
       "</style>\n",
       "<table border=\"1\" class=\"dataframe\">\n",
       "  <thead>\n",
       "    <tr style=\"text-align: right;\">\n",
       "      <th></th>\n",
       "      <th>allele</th>\n",
       "      <th>all</th>\n",
       "      <th>missed</th>\n",
       "      <th>percentage</th>\n",
       "    </tr>\n",
       "  </thead>\n",
       "  <tbody>\n",
       "    <tr>\n",
       "      <th>145</th>\n",
       "      <td>DQB1*05:04</td>\n",
       "      <td>16</td>\n",
       "      <td>5</td>\n",
       "      <td>0.312500</td>\n",
       "    </tr>\n",
       "    <tr>\n",
       "      <th>83</th>\n",
       "      <td>DQB1*06:05</td>\n",
       "      <td>56</td>\n",
       "      <td>14</td>\n",
       "      <td>0.250000</td>\n",
       "    </tr>\n",
       "    <tr>\n",
       "      <th>157</th>\n",
       "      <td>DRB1*13:21</td>\n",
       "      <td>8</td>\n",
       "      <td>2</td>\n",
       "      <td>0.250000</td>\n",
       "    </tr>\n",
       "    <tr>\n",
       "      <th>106</th>\n",
       "      <td>A*69:01</td>\n",
       "      <td>16</td>\n",
       "      <td>4</td>\n",
       "      <td>0.250000</td>\n",
       "    </tr>\n",
       "    <tr>\n",
       "      <th>163</th>\n",
       "      <td>DRB1*13:05</td>\n",
       "      <td>8</td>\n",
       "      <td>2</td>\n",
       "      <td>0.250000</td>\n",
       "    </tr>\n",
       "    <tr>\n",
       "      <th>...</th>\n",
       "      <td>...</td>\n",
       "      <td>...</td>\n",
       "      <td>...</td>\n",
       "      <td>...</td>\n",
       "    </tr>\n",
       "    <tr>\n",
       "      <th>114</th>\n",
       "      <td>DRB1*03:02</td>\n",
       "      <td>88</td>\n",
       "      <td>6</td>\n",
       "      <td>0.068182</td>\n",
       "    </tr>\n",
       "    <tr>\n",
       "      <th>150</th>\n",
       "      <td>DRB1*13:27</td>\n",
       "      <td>16</td>\n",
       "      <td>1</td>\n",
       "      <td>0.062500</td>\n",
       "    </tr>\n",
       "    <tr>\n",
       "      <th>152</th>\n",
       "      <td>B*35:08</td>\n",
       "      <td>16</td>\n",
       "      <td>1</td>\n",
       "      <td>0.062500</td>\n",
       "    </tr>\n",
       "    <tr>\n",
       "      <th>134</th>\n",
       "      <td>A*34:02</td>\n",
       "      <td>16</td>\n",
       "      <td>1</td>\n",
       "      <td>0.062500</td>\n",
       "    </tr>\n",
       "    <tr>\n",
       "      <th>99</th>\n",
       "      <td>DRB1*04:08</td>\n",
       "      <td>32</td>\n",
       "      <td>1</td>\n",
       "      <td>0.031250</td>\n",
       "    </tr>\n",
       "  </tbody>\n",
       "</table>\n",
       "<p>165 rows × 4 columns</p>\n",
       "</div>"
      ],
      "text/plain": [
       "         allele  all  missed  percentage\n",
       "145  DQB1*05:04   16       5    0.312500\n",
       "83   DQB1*06:05   56      14    0.250000\n",
       "157  DRB1*13:21    8       2    0.250000\n",
       "106     A*69:01   16       4    0.250000\n",
       "163  DRB1*13:05    8       2    0.250000\n",
       "..          ...  ...     ...         ...\n",
       "114  DRB1*03:02   88       6    0.068182\n",
       "150  DRB1*13:27   16       1    0.062500\n",
       "152     B*35:08   16       1    0.062500\n",
       "134     A*34:02   16       1    0.062500\n",
       "99   DRB1*04:08   32       1    0.031250\n",
       "\n",
       "[165 rows x 4 columns]"
      ]
     },
     "execution_count": 27,
     "metadata": {},
     "output_type": "execute_result"
    }
   ],
   "source": [
    "y_missed = Counter(yoruba_missed_alleles)\n",
    "y_all = Counter(yoruba_total_alleles)\n",
    "\n",
    "df_y = []\n",
    "for k in y_all.keys():\n",
    "    try:\n",
    "        df_y.append([k,y_all[k],y_missed[k], (y_missed[k]/y_all[k])])\n",
    "    except:\n",
    "        df_y.append([k,y_all[k],0,0])\n",
    "        \n",
    "df_y = pd.DataFrame(df_y,columns=['allele','all','missed','percentage'])\n",
    "df_y = df_y.sort_values(by=['percentage'],ascending=False)\n",
    "df_y = df_y.drop(index=[3]) # drop error\n",
    "df_y = df_y[df_y.percentage != 0] # drop all zeros... comment out if you want to keep completely accurate alleles in plot\n",
    "df_y"
   ]
  },
  {
   "cell_type": "code",
   "execution_count": 28,
   "id": "f6e9a7ea",
   "metadata": {},
   "outputs": [
    {
     "data": {
      "text/html": [
       "<div>\n",
       "<style scoped>\n",
       "    .dataframe tbody tr th:only-of-type {\n",
       "        vertical-align: middle;\n",
       "    }\n",
       "\n",
       "    .dataframe tbody tr th {\n",
       "        vertical-align: top;\n",
       "    }\n",
       "\n",
       "    .dataframe thead th {\n",
       "        text-align: right;\n",
       "    }\n",
       "</style>\n",
       "<table border=\"1\" class=\"dataframe\">\n",
       "  <thead>\n",
       "    <tr style=\"text-align: right;\">\n",
       "      <th></th>\n",
       "      <th>allele</th>\n",
       "      <th>all</th>\n",
       "      <th>missed</th>\n",
       "      <th>percentage</th>\n",
       "    </tr>\n",
       "  </thead>\n",
       "  <tbody>\n",
       "    <tr>\n",
       "      <th>145</th>\n",
       "      <td>DQB1*05:04</td>\n",
       "      <td>48</td>\n",
       "      <td>15</td>\n",
       "      <td>0.312500</td>\n",
       "    </tr>\n",
       "    <tr>\n",
       "      <th>83</th>\n",
       "      <td>DQB1*06:05</td>\n",
       "      <td>168</td>\n",
       "      <td>42</td>\n",
       "      <td>0.250000</td>\n",
       "    </tr>\n",
       "    <tr>\n",
       "      <th>157</th>\n",
       "      <td>DRB1*13:21</td>\n",
       "      <td>24</td>\n",
       "      <td>6</td>\n",
       "      <td>0.250000</td>\n",
       "    </tr>\n",
       "    <tr>\n",
       "      <th>106</th>\n",
       "      <td>A*69:01</td>\n",
       "      <td>48</td>\n",
       "      <td>12</td>\n",
       "      <td>0.250000</td>\n",
       "    </tr>\n",
       "    <tr>\n",
       "      <th>163</th>\n",
       "      <td>DRB1*13:05</td>\n",
       "      <td>24</td>\n",
       "      <td>6</td>\n",
       "      <td>0.250000</td>\n",
       "    </tr>\n",
       "    <tr>\n",
       "      <th>...</th>\n",
       "      <td>...</td>\n",
       "      <td>...</td>\n",
       "      <td>...</td>\n",
       "      <td>...</td>\n",
       "    </tr>\n",
       "    <tr>\n",
       "      <th>114</th>\n",
       "      <td>DRB1*03:02</td>\n",
       "      <td>264</td>\n",
       "      <td>18</td>\n",
       "      <td>0.068182</td>\n",
       "    </tr>\n",
       "    <tr>\n",
       "      <th>150</th>\n",
       "      <td>DRB1*13:27</td>\n",
       "      <td>48</td>\n",
       "      <td>3</td>\n",
       "      <td>0.062500</td>\n",
       "    </tr>\n",
       "    <tr>\n",
       "      <th>152</th>\n",
       "      <td>B*35:08</td>\n",
       "      <td>48</td>\n",
       "      <td>3</td>\n",
       "      <td>0.062500</td>\n",
       "    </tr>\n",
       "    <tr>\n",
       "      <th>134</th>\n",
       "      <td>A*34:02</td>\n",
       "      <td>48</td>\n",
       "      <td>3</td>\n",
       "      <td>0.062500</td>\n",
       "    </tr>\n",
       "    <tr>\n",
       "      <th>99</th>\n",
       "      <td>DRB1*04:08</td>\n",
       "      <td>96</td>\n",
       "      <td>3</td>\n",
       "      <td>0.031250</td>\n",
       "    </tr>\n",
       "  </tbody>\n",
       "</table>\n",
       "<p>165 rows × 4 columns</p>\n",
       "</div>"
      ],
      "text/plain": [
       "         allele  all  missed  percentage\n",
       "145  DQB1*05:04   48      15    0.312500\n",
       "83   DQB1*06:05  168      42    0.250000\n",
       "157  DRB1*13:21   24       6    0.250000\n",
       "106     A*69:01   48      12    0.250000\n",
       "163  DRB1*13:05   24       6    0.250000\n",
       "..          ...  ...     ...         ...\n",
       "114  DRB1*03:02  264      18    0.068182\n",
       "150  DRB1*13:27   48       3    0.062500\n",
       "152     B*35:08   48       3    0.062500\n",
       "134     A*34:02   48       3    0.062500\n",
       "99   DRB1*04:08   96       3    0.031250\n",
       "\n",
       "[165 rows x 4 columns]"
      ]
     },
     "execution_count": 28,
     "metadata": {},
     "output_type": "execute_result"
    }
   ],
   "source": [
    "e_missed = Counter(europe_missed_alleles)\n",
    "e_all = Counter(europe_total_alleles)\n",
    "\n",
    "df_e = []\n",
    "for k in e_all.keys():\n",
    "    try:\n",
    "        df_e.append([k,e_all[k],e_missed[k], (e_missed[k]/e_all[k])])\n",
    "    except:\n",
    "        df_e.append([k,e_all[k],0,0])\n",
    "        \n",
    "df_e = pd.DataFrame(df_e,columns=['allele','all','missed','percentage'])\n",
    "df_e = df_e.sort_values(by=['percentage'],ascending=False)\n",
    "df_e = df_e.drop(index=[3]) # drop top row, it holds na values\n",
    "df_e = df_e[df_e.percentage != 0] # drop all zeros... comment out if you want to keep completely accurate alleles in plot\n",
    "df_e\n",
    "\n"
   ]
  },
  {
   "cell_type": "code",
   "execution_count": 10,
   "id": "c5b8d7b5",
   "metadata": {},
   "outputs": [
    {
     "data": {
      "text/plain": [
       "([<matplotlib.axis.XTick at 0x7fe4b8d68eb0>,\n",
       "  <matplotlib.axis.XTick at 0x7fe4b8d68880>],\n",
       " [Text(1, 0, 'yoruba'), Text(2, 0, 'europe')])"
      ]
     },
     "execution_count": 10,
     "metadata": {},
     "output_type": "execute_result"
    },
    {
     "data": {
      "image/png": "[encoded data removed]",
      "text/plain": [
       "<Figure size 432x288 with 1 Axes>"
      ]
     },
     "metadata": {
      "needs_background": "light"
     },
     "output_type": "display_data"
    }
   ],
   "source": [
    "yoruba = df_y['percentage']\n",
    "europe = yoruba = df_e['percentage']\n",
    "\n",
    "plt.boxplot([yoruba,europe])\n",
    "plt.ylabel('% missed')\n",
    "plt.xticks([1,2],['yoruba','europe'])"
   ]
  },
  {
   "cell_type": "code",
   "execution_count": 11,
   "id": "f6815009",
   "metadata": {},
   "outputs": [
    {
     "data": {
      "text/plain": [
       "Text(0, 0.5, '% miscall for Yoruba')"
      ]
     },
     "execution_count": 11,
     "metadata": {},
     "output_type": "execute_result"
    },
    {
     "data": {
      "image/png": "[encoded data removed]",
      "text/plain": [
       "<Figure size 432x288 with 1 Axes>"
      ]
     },
     "metadata": {
      "needs_background": "light"
     },
     "output_type": "display_data"
    }
   ],
   "source": [
    "df = pd.merge(df_y, df_e, on='allele')\n",
    "\n",
    "plt.scatter(df['percentage_y'],df['percentage_x'])\n",
    "plt.plot(np.linspace(0, 0.6, 100),np.linspace(0, 0.6, 100))\n",
    "plt.xlabel('% miscall for Europe')\n",
    "plt.ylabel('% miscall for Yoruba')"
   ]
  },
  {
   "cell_type": "code",
   "execution_count": 14,
   "id": "fe5c7dfe",
   "metadata": {},
   "outputs": [
    {
     "data": {
      "text/plain": [
       "<matplotlib.legend.Legend at 0x7f9fc009ee20>"
      ]
     },
     "execution_count": 14,
     "metadata": {},
     "output_type": "execute_result"
    },
    {
     "data": {
      "image/png": "[encoded data removed]",
      "text/plain": [
       "<Figure size 720x720 with 1 Axes>"
      ]
     },
     "metadata": {
      "needs_background": "light"
     },
     "output_type": "display_data"
    }
   ],
   "source": [
    "plt.figure(figsize=(10,10))\n",
    "plt.plot(np.linspace(0, 0.5, 100),np.linspace(0, 0.5, 100),color='black')\n",
    "\n",
    "\n",
    "# IN THE DATAFRAME, pd.merge automatically labeled tge percentages x and y. x = yoruba, y = europe\n",
    "alleles = np.array(df['allele'])\n",
    "color = []\n",
    "\n",
    "# determine what color for each bar\n",
    "for a in alleles:\n",
    "    if (a[0]=='A'):\n",
    "        color.append('red')\n",
    "    if (a[0]=='B'):\n",
    "        color.append('sandybrown')\n",
    "    if (a[0]=='C'):\n",
    "        color.append('khaki')\n",
    "    if (a[0:2]=='DR'):\n",
    "        color.append('lightblue')\n",
    "    if (a[0:2]=='DQ'):\n",
    "        color.append('steelblue')\n",
    "\n",
    "y = list(df['percentage_y'])\n",
    "x = list(df['percentage_x'])\n",
    "for i in range(len(y)):\n",
    "    plt.scatter(y[i],x[i],color=color[i])\n",
    "    \n",
    "\n",
    "colors = {'HLA-A':'red', 'HLA-B':'sandybrown','HLA-C': 'khaki','HLA-DRB1':'lightblue','HLA-DQB1':'steelblue'}         \n",
    "labels = list(colors.keys())\n",
    "handles = [plt.Rectangle((0,0),1,1, color=colors[label]) for label in labels]\n",
    "plt.xlabel('Percentage miscalled - Yoruba')\n",
    "plt.ylabel('Percentage miscalled - Europe')\n",
    "plt.title('Percentage at which each allele was miscalled')\n",
    "\n",
    "plt.legend(handles, labels)"
   ]
  }
 ],
 "metadata": {
  "kernelspec": {
   "display_name": "Python 3 (ipykernel)",
   "language": "python",
   "name": "python3"
  },
  "language_info": {
   "codemirror_mode": {
    "name": "ipython",
    "version": 3
   },
   "file_extension": ".py",
   "mimetype": "text/x-python",
   "name": "python",
   "nbconvert_exporter": "python",
   "pygments_lexer": "ipython3",
   "version": "3.9.12"
  }
 },
 "nbformat": 4,
 "nbformat_minor": 5
}
