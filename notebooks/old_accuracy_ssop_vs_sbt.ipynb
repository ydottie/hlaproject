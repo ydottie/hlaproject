{
 "cells": [
  {
   "cell_type": "code",
   "execution_count": 2,
   "id": "f15f85c6",
   "metadata": {},
   "outputs": [],
   "source": [
    "import pandas as pd\n",
    "import numpy as np\n",
    "import matplotlib.pyplot as plt\n",
    "import seaborn as sns\n",
    "from utils import *"
   ]
  },
  {
   "cell_type": "code",
   "execution_count": 72,
   "id": "7b531d3c",
   "metadata": {},
   "outputs": [
    {
     "name": "stdout",
     "output_type": "stream",
     "text": [
      "optitype d1 [  1   2 297]\n",
      "optitype d2 [0 0 0]\n",
      "optitype d3 [  6   8 280]\n",
      "arcas d1 [  3  13 478]\n",
      "arcas d2 [ 0  4 96]\n",
      "arcas d3 [  8  59 189]\n",
      "rna2hla d1 [ 12  12 376]\n",
      "rna2hla d2 [ 5 14 75]\n",
      "rna2hla d3 [ 12  21 257]\n",
      "hlaforest d1 [  9  52 411]\n",
      "hlaforest d2 [ 1 17 82]\n",
      "hlaforest d3 [ 20  31 233]\n",
      "seq2hla d1 [ 21  27 452]\n",
      "seq2hla d2 [27  9 56]\n",
      "seq2hla d3 [ 12  21 257]\n",
      "hlahd d1 [ 28  10 458]\n",
      "hlahd d2 [ 0  4 96]\n",
      "hlahd d3 [ 19  65 176]\n",
      "phlat d1 [ 18  27 383]\n",
      "phlat d2 [ 0  9 87]\n",
      "phlat d3 [ 11  30 243]\n",
      "hlavbseq d1 [232  14 232]\n",
      "hlavbseq d2 [34  2 46]\n",
      "hlavbseq d3 [ 31  23 238]\n",
      "hlaminer d1 [331  57  26]\n",
      "hlaminer d2 [52 11  9]\n",
      "hlaminer d3 [207  22  17]\n",
      "T1K d1 [ 25   4 467]\n",
      "T1K d2 [ 0  4 96]\n",
      "T1K d3 [ 22  58 186]\n",
      "[[array([  1,   2, 297]), array([0, 0, 0]), array([  6,   8, 280])], [array([  3,  13, 478]), array([ 0,  4, 96]), array([  8,  59, 189])], [array([ 12,  12, 376]), array([ 5, 14, 75]), array([ 12,  21, 257])], [array([  9,  52, 411]), array([ 1, 17, 82]), array([ 20,  31, 233])], [array([ 21,  27, 452]), array([27,  9, 56]), array([ 12,  21, 257])], [array([ 28,  10, 458]), array([ 0,  4, 96]), array([ 19,  65, 176])], [array([ 18,  27, 383]), array([ 0,  9, 87]), array([ 11,  30, 243])], [array([232,  14, 232]), array([34,  2, 46]), array([ 31,  23, 238])], [array([331,  57,  26]), array([52, 11,  9]), array([207,  22,  17])], [array([ 25,   4, 467]), array([ 0,  4, 96]), array([ 22,  58, 186])]]\n"
     ]
    }
   ],
   "source": [
    "data = list()\n",
    "tools=[\"optitype\",\"arcas\",\"rna2hla\",\"hlaforest\",\"seq2hla\",\"hlahd\",\"phlat\",\"hlavbseq\",'hlaminer',\"T1K\"]\n",
    "for t in tools:\n",
    "    accuracies = [] #[sbt, ssp, ssop] results for each tool\n",
    "    for d in range(1,4):\n",
    "        \n",
    "        gs=pd.read_csv(\"../datasets/\"+str(d)+\"_gs.csv\")\n",
    "        pre=pd.read_csv(\"../results/standard/\"+str(t)+\"_d\"+str(d)+\".csv\")\n",
    "        \n",
    "        ret=compute_matches(pre,gs[:50]) #only accuracy for first 50 samples of GS \n",
    "        ret = np.array(np.sum(ret,axis=1))\n",
    "        print(t,\"d\"+str(d),ret)\n",
    "                \n",
    "        accuracies.append(ret)\n",
    "    data.append(accuracies)\n",
    "\n",
    "print(data)"
   ]
  },
  {
   "cell_type": "code",
   "execution_count": 73,
   "id": "557026c7",
   "metadata": {},
   "outputs": [
    {
     "name": "stdout",
     "output_type": "stream",
     "text": [
      "[0.95238095 0.73828125 0.8862069  0.82042254 0.8862069  0.67692308\n",
      " 0.8556338  0.81506849 0.06910569 0.69924812 0.75162925]\n"
     ]
    },
    {
     "name": "stderr",
     "output_type": "stream",
     "text": [
      "/var/folders/j4/pd1pbcl90xz683wfkd2drjqw0000gn/T/ipykernel_22439/301336337.py:8: RuntimeWarning: invalid value encountered in true_divide\n",
      "  ssp_accuracy = ssp[:,2]/np.sum(ssp,axis=1)\n"
     ]
    }
   ],
   "source": [
    "data = np.array(data)\n",
    "sbt = data[:,0]\n",
    "ssp = data[:,1]\n",
    "ssop = data[:,2] \n",
    "\n",
    "# get accuracies\n",
    "sbt_accuracy = sbt[:,2]/np.sum(sbt,axis=1)\n",
    "ssp_accuracy = ssp[:,2]/np.sum(ssp,axis=1)\n",
    "ssop_accuracy = ssop[:,2]/np.sum(ssop,axis=1)\n",
    "\n",
    "# append TOTALS\n",
    "sbttot = np.sum(sbt,axis=0)\n",
    "ssptot = np.sum(ssp,axis=0)\n",
    "ssoptot = np.sum(ssop,axis=0)\n",
    "\n",
    "\n",
    "sbt_accuracy = np.append(sbt_accuracy, sbttot[2]/np.sum(sbttot))\n",
    "ssp_accuracy = np.append(ssp_accuracy, ssptot[2]/np.sum(ssptot))\n",
    "ssop_accuracy = np.append(ssop_accuracy, ssoptot[2]/np.sum(ssoptot))\n",
    "\n",
    "\n",
    "print(ssop_accuracy)\n",
    "\n"
   ]
  },
  {
   "cell_type": "code",
   "execution_count": 91,
   "id": "e006358e",
   "metadata": {},
   "outputs": [
    {
     "data": {
      "text/plain": [
       "([<matplotlib.axis.XTick at 0x7fe2e334b1f0>,\n",
       "  <matplotlib.axis.XTick at 0x7fe2e334b1c0>,\n",
       "  <matplotlib.axis.XTick at 0x7fe2e3338490>,\n",
       "  <matplotlib.axis.XTick at 0x7fe2a285a340>,\n",
       "  <matplotlib.axis.XTick at 0x7fe2a285aa90>,\n",
       "  <matplotlib.axis.XTick at 0x7fe2a285a610>,\n",
       "  <matplotlib.axis.XTick at 0x7fe2a28613d0>,\n",
       "  <matplotlib.axis.XTick at 0x7fe2a2861b20>,\n",
       "  <matplotlib.axis.XTick at 0x7fe2a28692b0>,\n",
       "  <matplotlib.axis.XTick at 0x7fe2a2869a00>,\n",
       "  <matplotlib.axis.XTick at 0x7fe2a286d190>],\n",
       " [Text(0, 0, 'optitype'),\n",
       "  Text(1, 0, 'arcas'),\n",
       "  Text(2, 0, 'rna2hla'),\n",
       "  Text(3, 0, 'hlaforest'),\n",
       "  Text(4, 0, 'seq2hla'),\n",
       "  Text(5, 0, 'hlahd'),\n",
       "  Text(6, 0, 'phlat'),\n",
       "  Text(7, 0, 'hlavbseq'),\n",
       "  Text(8, 0, 'hlaminer'),\n",
       "  Text(9, 0, 'T1K'),\n",
       "  Text(10, 0, 'Total')])"
      ]
     },
     "execution_count": 91,
     "metadata": {},
     "output_type": "execute_result"
    },
    {
     "data": {
      "image/png": "[encoded data removed]",
      "text/plain": [
       "<Figure size 720x576 with 1 Axes>"
      ]
     },
     "metadata": {
      "needs_background": "light"
     },
     "output_type": "display_data"
    }
   ],
   "source": [
    "# make a barplot\n",
    "import matplotlib.pyplot as plt \n",
    "import numpy as np \n",
    "  \n",
    "# create data \n",
    "x = np.arange(11) \n",
    "width = 0.25\n",
    "  \n",
    "plt.figure(figsize=(10,8))\n",
    "    \n",
    "# plot data in grouped manner of bar type \n",
    "plt.bar(x-0.25, sbt_accuracy, width) \n",
    "plt.bar(x, ssp_accuracy, width) \n",
    "plt.bar(x+0.25, ssop_accuracy, width) \n",
    "plt.legend([\"SBT\",\"SSP\",\"SSOP\"]) \n",
    "plt.ylabel(\"Accuracy\")\n",
    "plt.ylabel(\"Tool\")\n",
    "\n",
    "plt.xticks(x,[\"optitype\",\"arcas\",\"rna2hla\",\"hlaforest\",\"seq2hla\",\"hlahd\",\"phlat\",\"hlavbseq\",'hlaminer',\"T1K\", \"Total\"])"
   ]
  },
  {
   "cell_type": "code",
   "execution_count": null,
   "id": "a260a057",
   "metadata": {},
   "outputs": [],
   "source": []
  }
 ],
 "metadata": {
  "kernelspec": {
   "display_name": "Python 3 (ipykernel)",
   "language": "python",
   "name": "python3"
  },
  "language_info": {
   "codemirror_mode": {
    "name": "ipython",
    "version": 3
   },
   "file_extension": ".py",
   "mimetype": "text/x-python",
   "name": "python",
   "nbconvert_exporter": "python",
   "pygments_lexer": "ipython3",
   "version": "3.9.12"
  }
 },
 "nbformat": 4,
 "nbformat_minor": 5
}
