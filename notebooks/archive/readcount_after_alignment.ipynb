{
 "cells": [
  {
   "cell_type": "code",
   "execution_count": 8,
   "id": "641236b4",
   "metadata": {},
   "outputs": [],
   "source": [
    "import pandas as pd\n",
    "import numpy as np\n",
    "\n",
    "loc = '../datasets/readcount/'"
   ]
  },
  {
   "cell_type": "code",
   "execution_count": 11,
   "id": "6286b01e",
   "metadata": {},
   "outputs": [
    {
     "name": "stdout",
     "output_type": "stream",
     "text": [
      "[940304, 2656240, 5851216, 3415492, 17086344, 5849172]\n",
      "[4352016, 23921572, 19986200, 11747728, 29296592, 8189916]\n",
      "[2715152, 7974085, 11833031, 8021130, 28189409, 7491378]\n",
      "overall min: 235076.0\n",
      "overall max: 7324148.0\n",
      "overall avg: 2759341.0416666665\n"
     ]
    }
   ],
   "source": [
    "allmins = []\n",
    "allmaxs = []\n",
    "avg = []\n",
    "\n",
    "for i in range(1,7):\n",
    "    infile = open(loc+f'd{i}reads.txt')\n",
    "    temp = infile.readline()\n",
    "    \n",
    "    count = 0\n",
    "    minimum = 99999999\n",
    "    maximum = 0\n",
    "    \n",
    "    for line in infile: \n",
    "        try:\n",
    "            l = int(line.split('./')[0])\n",
    "            count += 1\n",
    "            if minimum>l:\n",
    "                minimum=l\n",
    "            if maximum<l:\n",
    "                maximum = l \n",
    "        except: #there is only one exception, for the total on the last line\n",
    "            totalreads = int(line.split('total\\n')[0])\n",
    "            avg.append( int(totalreads/count) )\n",
    "            pass\n",
    "    infile.close()\n",
    "    allmins.append(minimum)\n",
    "    allmaxs.append(maximum)\n",
    "    \n",
    "    \n",
    "print(allmins)\n",
    "print(allmaxs)\n",
    "print(avg)\n",
    "\n",
    "print(\"overall min: \" + str(940304/4))\n",
    "print(\"overall max: \" + str(29296592/4))\n",
    "print(\"overall avg: \" + str(np.average(avg)/4)) # divide 4 because 4 lines per read in fastq"
   ]
  }
 ],
 "metadata": {
  "kernelspec": {
   "display_name": "Python 3 (ipykernel)",
   "language": "python",
   "name": "python3"
  },
  "language_info": {
   "codemirror_mode": {
    "name": "ipython",
    "version": 3
   },
   "file_extension": ".py",
   "mimetype": "text/x-python",
   "name": "python",
   "nbconvert_exporter": "python",
   "pygments_lexer": "ipython3",
   "version": "3.9.12"
  }
 },
 "nbformat": 4,
 "nbformat_minor": 5
}
