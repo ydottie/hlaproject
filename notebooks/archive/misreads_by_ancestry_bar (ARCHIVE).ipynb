{
 "cells": [
  {
   "cell_type": "code",
   "execution_count": 1,
   "id": "ecd3f72a",
   "metadata": {},
   "outputs": [],
   "source": [
    "import pandas as pd\n",
    "import numpy as np\n",
    "import matplotlib.pyplot as plt\n",
    "from scipy.stats import chi2_contingency\n",
    "from scipy.stats import chisquare\n",
    "\n",
    "from collections import Counter\n",
    "from utils import *\n"
   ]
  },
  {
   "cell_type": "code",
   "execution_count": 2,
   "id": "95a7008f",
   "metadata": {
    "scrolled": true
   },
   "outputs": [],
   "source": [
    "def missed_alleles_per_ancestry(pre,gs):\n",
    "    groupscsv = \"../datasets/SraRunTableD1.txt\"\n",
    "    groups = pd.read_csv(groupscsv)\n",
    "    \n",
    "    results = []\n",
    "\n",
    "    for group, df_by_group in groups.groupby('Population'):\n",
    "        accession_numbers = df_by_group['Run'].values.tolist()\n",
    "        gs_final = gs[gs['Run'].isin(accession_numbers)] #gs_final is a df containing the gold standard samples per population group\n",
    "        gs_final = gs_final.iloc[: ,:]\n",
    "        \n",
    "\n",
    "        ret = get_inaccurate_alleles(pre,gs_final)\n",
    "        results.append(ret)\n",
    "\n",
    "    yorubaresult = results[4]\n",
    "    europeanresult = sum_euro_groups(results[0:4],True)\n",
    "\n",
    "    return yorubaresult, europeanresult"
   ]
  },
  {
   "cell_type": "code",
   "execution_count": 3,
   "id": "c895882c",
   "metadata": {},
   "outputs": [],
   "source": [
    "data = list()\n",
    "tools=[\"hlaforest\",\"optitype\",\"phlat\",\"seq2hla\",\"rna2hla\",\"arcas\",\"hlavbseq\",\"hlahd\"]\n",
    "\n",
    "yoruba_missed_alleles = []\n",
    "europe_missed_alleles = []\n",
    "\n",
    "for t in tools:\n",
    "    gs=pd.read_csv(\"../datasets/1_gs.csv\")\n",
    "    pre=pd.read_csv(\"../results/standard/\"+str(t)+\"_d1.csv\")\n",
    "        \n",
    "    results = missed_alleles_per_ancestry(pre,gs)\n",
    "    \n",
    "    for i in results[0]:\n",
    "        yoruba_missed_alleles.append(i)\n",
    "    for i in results[1]:\n",
    "        europe_missed_alleles.append(i)\n",
    "    \n",
    "\n"
   ]
  },
  {
   "cell_type": "code",
   "execution_count": 4,
   "id": "116d15d7",
   "metadata": {},
   "outputs": [
    {
     "name": "stdout",
     "output_type": "stream",
     "text": [
      "Counter({'DQB1*02:01': 81, 'B*53:01': 37, 'DQB1*04:02': 33, 'DQB1*03:01': 24, 'DQB1*06:03': 21, 'DRB1*08:04': 21, 'DQB1*05:01': 20, 'DRB1*13:01': 17, 'DRB1*07:01': 17, 'DRB1*13:03': 16, 'DRB1*15:03': 16, 'DQB1*06:02': 13, 'B*52:01': 11, 'DRB1*13:02': 11, 'DRB1*14:01': 10, 'DRB1*03:02': 10, 'DQB1*05:02': 10, 'DRB1*11:04': 9, 'DRB1*03:01': 9, 'A*30:01': 9, 'DQB1*06:05': 8, 'B*42:01': 7, 'C*17:01': 7, 'A*24:24': 6, 'A*30:02': 6, 'C*04:01': 6, 'B*58:01': 4, 'C*07:02': 4, 'DRB1*11:01': 4, 'DRB1*01:01': 4, 'B*49:01': 3, 'B*35:01': 3, 'B*07:02': 3, 'C*16:01': 3, 'DRB1*11:02': 3, 'DQB1*05:03': 3, 'A*23:01': 2, 'B*56:01': 2, 'C*07:01': 2, 'DRB1*12:01': 2, 'B*45:01': 2, 'DRB1*09:01': 2, 'DRB1*04:03': 2, 'DQB1*03:02': 2, 'B*41:04': 2, 'DRB1*13:27': 2, 'DRB1*13:35': 2, 'DQB1*06:04': 2, 'B*51:01': 1, 'B*42:02': 1, 'C*08:02': 1, 'C*08:04': 1, 'A*26:01': 1, 'A*02:01': 1, 'A*36:01': 1, 'DRB1*01:02': 1, 'C*14:02': 1, 'A*01:01': 1, 'B*57:03': 1})\n",
      "Counter({'DQB1*02:01': 337, 'DQB1*03:01': 198, 'DRB1*15:01': 166, 'DRB1*07:01': 161, 'DQB1*06:02': 149, 'DQB1*05:01': 145, 'DQB1*03:02': 143, 'DRB1*01:01': 102, 'DQB1*04:02': 97, 'DRB1*04:01': 67, 'DRB1*03:01': 64, 'DQB1*03:03': 56, 'DQB1*06:03': 55, 'C*07:02': 50, 'DRB1*11:01': 48, 'DRB1*04:04': 47, 'DRB1*08:01': 46, 'A*02:01': 45, 'DRB1*13:01': 43, 'B*15:01': 37, 'DQB1*05:03': 35, 'DRB1*13:02': 33, 'C*03:04': 31, 'B*40:01': 30, 'DRB1*14:01': 30, 'C*06:02': 26, 'B*35:01': 24, 'DQB1*06:04': 24, 'DRB1*16:01': 22, 'DRB1*11:04': 21, 'A*01:01': 19, 'B*51:01': 18, 'C*12:03': 18, 'C*03:03': 18, 'B*07:02': 17, 'DQB1*05:02': 17, 'DRB1*12:01': 17, 'DRB1*04:07': 17, 'A*68:01': 16, 'B*44:02': 16, 'B*55:01': 16, 'C*07:01': 15, 'A*03:01': 15, 'A*30:01': 14, 'B*27:05': 14, 'B*44:03': 13, 'C*16:01': 13, 'DRB1*10:01': 12, 'DRB1*13:03': 11, 'B*56:01': 10, 'A*11:01': 10, 'C*05:01': 8, 'B*1:': 8, 'B*49:01': 8, 'C*08:02': 8, 'DRB1*09:01': 8, 'DQB1*06:09': 8, 'DRB1*04:03': 7, 'B*58:01': 6, 'B*08:01': 6, 'DRB1*08:04': 6, 'A*25:01': 6, 'A*30:02': 6, 'A*24:02': 5, 'A*32:01': 5, 'C*15:02': 5, 'C*14:02': 4, 'B*35:03': 4, 'DRB1*15:02': 4, 'DRB1*04:08': 4, 'DRB1*08:02': 4, 'DRB1*01:02': 4, 'C*04:01': 4, 'A*69:01': 3, 'B*53:01': 3, 'B*13:02': 3, 'DRB1*04:02': 3, 'DRB1*11:03': 3, 'B*40:02': 2, 'B*41:02': 2, 'A*33:03': 2, 'B*37:01': 2, 'B*39:06': 2, 'DRB1*14:04': 2, 'C*07:04': 2, 'DRB1*11:02': 2, 'B*57:01': 2, 'A*29:02': 2, 'C*17:01': 2, 'B*15:17': 2, 'DQB1*06:01': 2, 'DQB1*05:04': 2, 'A*03:03': 2, 'B*67:01': 1, 'B*52:01': 1, 'B*18:01': 1, 'B*50:01': 1, 'B*35:02': 1, 'B*38:01': 1, 'B*27:03': 1, 'DRB1*13:05': 1, 'A*01:02': 1, 'DRB1*04:05': 1, 'DQB1*03:04': 1, 'B*15:03': 1, 'B*41:01': 1, 'DRB1*08:03': 1, 'A*23:01': 1, 'DRB1*16:02': 1, 'DRB1*13:21': 1, 'B*35:08': 1, 'C*02:02': 1, 'C*01:02': 1, 'A*26:01': 1})\n"
     ]
    }
   ],
   "source": [
    "ycounts = Counter(yoruba_missed_alleles)\n",
    "ecounts = Counter(europe_missed_alleles)\n",
    "\n",
    "print(ycounts)\n",
    "print(ecounts)"
   ]
  },
  {
   "cell_type": "code",
   "execution_count": 5,
   "id": "a38ab5dd",
   "metadata": {},
   "outputs": [
    {
     "name": "stdout",
     "output_type": "stream",
     "text": [
      "        allele  yoruba  Europe  total\n",
      "7   DQB1*02:01      81     337    418\n",
      "26  DQB1*03:01      24     198    222\n",
      "2   DRB1*07:01      17     161    178\n",
      "3   DQB1*05:01      20     145    165\n",
      "42  DQB1*06:02      13     149    162\n",
      "36  DQB1*03:02       2     143    145\n",
      "15  DQB1*04:02      33      97    130\n",
      "9   DRB1*01:01       4     102    106\n",
      "30  DQB1*06:03      21      55     76\n",
      "17  DRB1*03:01       9      64     73\n",
      "33  DRB1*13:01      17      43     60\n",
      "38     C*07:02       4      50     54\n",
      "21  DRB1*11:01       4      48     52\n",
      "6      A*02:01       1      45     46\n",
      "39  DRB1*13:02      11      33     44\n",
      "28  DRB1*14:01      10      30     40\n",
      "35     B*53:01      37       3     40\n",
      "1   DQB1*05:03       3      35     38\n",
      "12  DRB1*11:04       9      21     30\n",
      "14  DRB1*08:04      21       6     27\n",
      "11  DQB1*05:02      10      17     27\n",
      "22  DRB1*13:03      16      11     27\n",
      "31     B*35:01       3      24     27\n",
      "19  DQB1*06:04       2      24     26\n",
      "41     A*30:01       9      14     23\n",
      "5      B*07:02       3      17     20\n",
      "0      A*01:01       1      19     20\n",
      "23     B*51:01       1      18     19\n",
      "20  DRB1*12:01       2      17     19\n",
      "18     C*07:01       2      15     17\n",
      "4      C*16:01       3      13     16\n",
      "25     B*52:01      11       1     12\n",
      "44     A*30:02       6       6     12\n",
      "13     B*56:01       2      10     12\n",
      "40     B*49:01       3       8     11\n",
      "32     C*04:01       6       4     10\n",
      "16  DRB1*09:01       2       8     10\n",
      "29     B*58:01       4       6     10\n",
      "34  DRB1*04:03       2       7      9\n",
      "43     C*17:01       7       2      9\n",
      "8      C*08:02       1       8      9\n",
      "27     C*14:02       1       4      5\n",
      "45  DRB1*01:02       1       4      5\n",
      "10  DRB1*11:02       3       2      5\n",
      "24     A*23:01       2       1      3\n",
      "37     A*26:01       1       1      2\n"
     ]
    }
   ],
   "source": [
    "allele_intersection = list(set(ycounts.keys()) & set(ecounts.keys()))\n",
    "\n",
    "intersection = []\n",
    "\n",
    "for allele in allele_intersection:\n",
    "    intersection.append([allele,ycounts[allele],ecounts[allele],ecounts[allele]+ycounts[allele]])\n",
    "\n",
    "df = pd.DataFrame (intersection, columns = ['allele','yoruba','Europe','total'])\n",
    "df = df.sort_values(by=['total'],ascending=False)\n",
    "\n",
    "with pd.option_context('display.max_rows', None, 'display.max_columns', None):  # more options can be specified also\n",
    "    print(df)"
   ]
  },
  {
   "cell_type": "code",
   "execution_count": 6,
   "id": "fc5b6490",
   "metadata": {},
   "outputs": [
    {
     "name": "stdout",
     "output_type": "stream",
     "text": [
      "        allele                yoruba                 Europe  \\\n",
      "7   DQB1*02:01     1.208955223880597     0.7966903073286052   \n",
      "35     B*53:01    0.5522388059701493  0.0070921985815602835   \n",
      "15  DQB1*04:02    0.4925373134328358     0.2293144208037825   \n",
      "26  DQB1*03:01    0.3582089552238806    0.46808510638297873   \n",
      "30  DQB1*06:03   0.31343283582089554    0.13002364066193853   \n",
      "14  DRB1*08:04   0.31343283582089554   0.014184397163120567   \n",
      "3   DQB1*05:01   0.29850746268656714    0.34278959810874704   \n",
      "33  DRB1*13:01    0.2537313432835821     0.1016548463356974   \n",
      "2   DRB1*07:01    0.2537313432835821     0.3806146572104019   \n",
      "22  DRB1*13:03   0.23880597014925373   0.026004728132387706   \n",
      "42  DQB1*06:02   0.19402985074626866    0.35224586288416077   \n",
      "39  DRB1*13:02   0.16417910447761194    0.07801418439716312   \n",
      "25     B*52:01   0.16417910447761194   0.002364066193853428   \n",
      "28  DRB1*14:01   0.14925373134328357    0.07092198581560284   \n",
      "11  DQB1*05:02   0.14925373134328357    0.04018912529550828   \n",
      "17  DRB1*03:01   0.13432835820895522    0.15130023640661938   \n",
      "41     A*30:01   0.13432835820895522    0.03309692671394799   \n",
      "12  DRB1*11:04   0.13432835820895522    0.04964539007092199   \n",
      "43     C*17:01    0.1044776119402985   0.004728132387706856   \n",
      "44     A*30:02   0.08955223880597014   0.014184397163120567   \n",
      "32     C*04:01   0.08955223880597014   0.009456264775413711   \n",
      "38     C*07:02   0.05970149253731343     0.1182033096926714   \n",
      "21  DRB1*11:01   0.05970149253731343    0.11347517730496454   \n",
      "9   DRB1*01:01   0.05970149253731343    0.24113475177304963   \n",
      "29     B*58:01   0.05970149253731343   0.014184397163120567   \n",
      "40     B*49:01   0.04477611940298507   0.018912529550827423   \n",
      "10  DRB1*11:02   0.04477611940298507   0.004728132387706856   \n",
      "1   DQB1*05:03   0.04477611940298507    0.08274231678486997   \n",
      "5      B*07:02   0.04477611940298507    0.04018912529550828   \n",
      "4      C*16:01   0.04477611940298507   0.030732860520094562   \n",
      "31     B*35:01   0.04477611940298507    0.05673758865248227   \n",
      "36  DQB1*03:02  0.029850746268656716     0.3380614657210402   \n",
      "34  DRB1*04:03  0.029850746268656716   0.016548463356973995   \n",
      "20  DRB1*12:01  0.029850746268656716    0.04018912529550828   \n",
      "24     A*23:01  0.029850746268656716   0.002364066193853428   \n",
      "19  DQB1*06:04  0.029850746268656716    0.05673758865248227   \n",
      "18     C*07:01  0.029850746268656716    0.03546099290780142   \n",
      "16  DRB1*09:01  0.029850746268656716   0.018912529550827423   \n",
      "13     B*56:01  0.029850746268656716    0.02364066193853428   \n",
      "0      A*01:01  0.014925373134328358    0.04491725768321513   \n",
      "23     B*51:01  0.014925373134328358     0.0425531914893617   \n",
      "37     A*26:01  0.014925373134328358   0.002364066193853428   \n",
      "27     C*14:02  0.014925373134328358   0.009456264775413711   \n",
      "8      C*08:02  0.014925373134328358   0.018912529550827423   \n",
      "6      A*02:01  0.014925373134328358    0.10638297872340426   \n",
      "45  DRB1*01:02  0.014925373134328358   0.009456264775413711   \n",
      "\n",
      "                   total  \n",
      "7     0.8530612244897959  \n",
      "35   0.08163265306122448  \n",
      "15    0.2653061224489796  \n",
      "26    0.4530612244897959  \n",
      "30   0.15510204081632653  \n",
      "14   0.05510204081632653  \n",
      "3      0.336734693877551  \n",
      "33   0.12244897959183673  \n",
      "2      0.363265306122449  \n",
      "22   0.05510204081632653  \n",
      "42    0.3306122448979592  \n",
      "39   0.08979591836734693  \n",
      "25  0.024489795918367346  \n",
      "28   0.08163265306122448  \n",
      "11   0.05510204081632653  \n",
      "17    0.1489795918367347  \n",
      "41   0.04693877551020408  \n",
      "12  0.061224489795918366  \n",
      "43  0.018367346938775512  \n",
      "44  0.024489795918367346  \n",
      "32   0.02040816326530612  \n",
      "38   0.11020408163265306  \n",
      "21   0.10612244897959183  \n",
      "9     0.2163265306122449  \n",
      "29   0.02040816326530612  \n",
      "40  0.022448979591836733  \n",
      "10   0.01020408163265306  \n",
      "1    0.07755102040816327  \n",
      "5    0.04081632653061224  \n",
      "4     0.0326530612244898  \n",
      "31   0.05510204081632653  \n",
      "36   0.29591836734693877  \n",
      "34  0.018367346938775512  \n",
      "20   0.03877551020408163  \n",
      "24  0.006122448979591836  \n",
      "19  0.053061224489795916  \n",
      "18   0.03469387755102041  \n",
      "16   0.02040816326530612  \n",
      "13  0.024489795918367346  \n",
      "0    0.04081632653061224  \n",
      "23   0.03877551020408163  \n",
      "37  0.004081632653061225  \n",
      "27   0.01020408163265306  \n",
      "8   0.018367346938775512  \n",
      "6    0.09387755102040816  \n",
      "45   0.01020408163265306  \n"
     ]
    }
   ],
   "source": [
    "#normalize ot sample size for fair comparison for africa vs europe\n",
    "intersection = np.array(intersection)   \n",
    "intersection[:,1] = intersection[:,1].astype(float)/67\n",
    "intersection[:,2] = intersection[:,2].astype(float)/423\n",
    "intersection[:,3] = intersection[:,3].astype(float)/490\n",
    "\n",
    "\n",
    "df = pd.DataFrame (intersection, columns = ['allele','yoruba','Europe','total'])\n",
    "df = df.sort_values(by=['yoruba'],ascending=False)\n",
    "\n",
    "with pd.option_context('display.max_rows', None, 'display.max_columns', None):  # more options can be specified also\n",
    "    print(df)"
   ]
  },
  {
   "cell_type": "code",
   "execution_count": 7,
   "id": "a83cfa64",
   "metadata": {},
   "outputs": [
    {
     "data": {
      "image/png": "[encoded data removed]",
      "text/plain": [
       "<Figure size 1080x720 with 1 Axes>"
      ]
     },
     "metadata": {
      "needs_background": "light"
     },
     "output_type": "display_data"
    }
   ],
   "source": [
    "allele = np.array(df['allele'])\n",
    "yoruba = np.array(df['yoruba'])\n",
    "europe = np.array(df['Europe'])\n",
    "total = np.array(df['total'])  \n",
    "\n",
    "xaxis = np.arange(len(allele))\n",
    " \n",
    "plt.figure(figsize = (15,10))\n",
    "\n",
    "plt.bar(xaxis - 0.2, yoruba.astype(float), 0.4,color='orange')\n",
    "plt.bar(xaxis + 0.2, europe.astype(float), 0.4, color='purple')\n",
    "plt.legend([\"Africa\",\"European\"])\n",
    "plt.xticks(xaxis,allele,rotation=45, ha='right')\n",
    "plt.xlabel(\"Alleles\")\n",
    "plt.ylabel(\"Average miscalls per sample \")\n",
    "\n",
    "plt.show()"
   ]
  },
  {
   "cell_type": "code",
   "execution_count": 8,
   "id": "3e22d71a",
   "metadata": {},
   "outputs": [
    {
     "data": {
      "text/plain": [
       "0.14438676184295915"
      ]
     },
     "execution_count": 8,
     "metadata": {},
     "output_type": "execute_result"
    }
   ],
   "source": [
    "#yoruban: avg miscalls/sample\n",
    "np.average(yoruba.astype(float))"
   ]
  },
  {
   "cell_type": "code",
   "execution_count": 9,
   "id": "e850af43",
   "metadata": {},
   "outputs": [
    {
     "data": {
      "text/plain": [
       "0.10412169801624009"
      ]
     },
     "execution_count": 9,
     "metadata": {},
     "output_type": "execute_result"
    }
   ],
   "source": [
    "#european: avg miscalls/sample\n",
    "np.average(europe.astype(float))"
   ]
  }
 ],
 "metadata": {
  "kernelspec": {
   "display_name": "Python 3 (ipykernel)",
   "language": "python",
   "name": "python3"
  },
  "language_info": {
   "codemirror_mode": {
    "name": "ipython",
    "version": 3
   },
   "file_extension": ".py",
   "mimetype": "text/x-python",
   "name": "python",
   "nbconvert_exporter": "python",
   "pygments_lexer": "ipython3",
   "version": "3.9.12"
  }
 },
 "nbformat": 4,
 "nbformat_minor": 5
}
